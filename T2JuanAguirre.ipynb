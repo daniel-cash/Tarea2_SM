{
 "cells": [
  {
   "cell_type": "markdown",
   "metadata": {},
   "source": [
    "## Tarea 2 – Simulación matemática\n",
    "\n",
    "Todo comenzó en 1989, cuando Guido Van Rossum, un holandés experto en computación, se propuso un proyecto para navidad, quería crear su propio lenguaje de programación. Esto se debe a que le parecía a veces muy complejo, innecesario tener que escribir tantas líneas de código para representar cosas simples. Así que sus principios eran simples. Tenia que ser sencillo de leer, cada línea de código tendría un espacio en blanco con sangría, dejaría que los usuarios crearan sus propios paquetes, que podían estar a alcance de cualquiera, para que fuesen la base de nuevos programas, y, por último, debía tener un nombre único y misterioso y decidió nombrar lo como un grupo de comedia británico, Monty Python. \n",
    "\n",
    "Alrededor de 30 años después de este proyecto de navidad, Python es de los programas más buscados alrededor del mundo, superando en búsquedas en Google a Kim Kardashian. Mientras la mayoría de los lenguajes de programación se ha estancado o van a la baja, Python va cada vez agarrando más y más fuerza. Ni si quiera Guido Van Rossum pensaba que esto podría pasar. Él mismo se sorprende y dice que nunca pensó en crear un lenguaje de programación que fuese usado alrededor del mundo. Es así como nació el lenguaje de programación “Python”. Sencillo, simple y todo partió de una idea de alguien que quería hacer algo diferente. \n"
   ]
  },
  {
   "cell_type": "markdown",
   "metadata": {},
   "source": [
    "De acuerdo a Kristen Sosulski “Python es muy popular debido a sus amplias librerías que permiten que sea un programa dinámico y rápido”. Esto es uno de los puntos por los cuáles la opinión popular y opinión de expertos respaldan que Python es de los mejores, sino es que el mejor, lenguajes de programación alrededor del mundo. Sus capacidades van desde crear una página web, hasta crear modelos de aplicaciones y diversas otras cosas. Además, aseguran en “The Economist” que en 2018 Python se convirtió en el programa más visitado en el mundo. \n",
    "\n",
    "Este progreso e interés por Python es, en gran medida, debido a sus aplicaciones en diferentes industrias como la financiera, manufactura, electrónica, energía, tecnología y en el gobierno. Lo que hace Python para “ayudar” a las industrias es que hace que se use su información (que cada industria tiene) para tomar mejores decisiones, para optimizar, y esto puede mejorar su negocio.\n",
    "\n",
    "Otra característica a la que se le atribuye su gran auge en estos últimos años es, que es fácil de aprender. Esto se ve reflejado en que, con cada línea de código que haces, realizas mucho. Incluso si lo hace un “novato”. Además, otro de los aspectos que hace que Python sea tan relevante es el hecho que las personas que desarrollan inteligencia artificial utilizan Python, porque ha probado ser de mucha utilidad para esto.\n",
    "\n",
    "Es tan accesible y fácil de usar (Python) que, incluso, hay una organización, PyLadies, que se dedica a ayudar a las mujeres alrededor del mundo que están interesadas en programación a que puedan programar. Esta organización mundial utiliza Python por su gran relevancia, sus diversos usos, y, principalmente, porque es fácil de aprender.\n",
    "\n",
    "**Artículos usados:** \n",
    "\n",
    "https://www.techrepublic.com/article/why-python-is-so-popular-with-developers-3-reasons-the-language-has-exploded/\n",
    "https://www.economist.com/science-and-technology/2018/07/19/python-has-brought-computer-programming-to-a-vast-new-audience\n"
   ]
  },
  {
   "cell_type": "code",
   "execution_count": null,
   "metadata": {},
   "outputs": [],
   "source": []
  },
  {
   "cell_type": "code",
   "execution_count": null,
   "metadata": {},
   "outputs": [],
   "source": []
  },
  {
   "cell_type": "code",
   "execution_count": null,
   "metadata": {},
   "outputs": [],
   "source": []
  },
  {
   "cell_type": "code",
   "execution_count": null,
   "metadata": {},
   "outputs": [],
   "source": []
  },
  {
   "cell_type": "code",
   "execution_count": null,
   "metadata": {},
   "outputs": [],
   "source": []
  },
  {
   "cell_type": "code",
   "execution_count": null,
   "metadata": {},
   "outputs": [],
   "source": []
  },
  {
   "cell_type": "code",
   "execution_count": null,
   "metadata": {},
   "outputs": [],
   "source": []
  },
  {
   "cell_type": "code",
   "execution_count": null,
   "metadata": {},
   "outputs": [],
   "source": []
  },
  {
   "cell_type": "markdown",
   "metadata": {},
   "source": [
    "## Jesús Daniel Castillo Hernández\n",
    "\n",
    "**Expectativas del curso**\n",
    "\n",
    "Con este curso de simulación espero aprender las herramientas tanto matemáticas como computacionales para modelar fenómenos diversos, emular su comportamiento y en especial poder estimar su conducta futura, y con ello poder proponer modificaciones en ciertas variables para encaminar el fenómeno a lugares deseados.\n"
   ]
  },
  {
   "cell_type": "markdown",
   "metadata": {},
   "source": [
    "\n",
    "\n",
    "$$\\int_{-1}^1 e^{-x^{2}}dx \\approx \\frac{0,5}{3} [f(-1)+f(1)+4(\\color{red}{{f(-0,5)+f(0,5)}})+2\\color{blue}{f(0)}]$$\n",
    "$$\\approx \\frac{0,5}{3} [0,3678+0,3678+4(\\color{red}{0,7788+0,7788})+2\\cdot \\color{blue}{1}] \\approx 1,4943$$\n",
    "\n",
    "A modo de verificación, se calculará por software, el valor del área para $n$ = 100, un valor mucho más elevador al que se utilizó anteriormente. Si lo calculado previamente es correcto, se esperaría que sea próximo al valor presentado a continuación para ser una buena aproximación.\n",
    "\n",
    "$$\\int_{-1}^1 e^{-x^{2}}dx \\approx 1,4936$$\n"
   ]
  },
  {
   "cell_type": "markdown",
   "metadata": {},
   "source": [
    "\n",
    "\n",
    "|$i$|1|2|3|4|5|6|7|\n",
    "|-|-|-|-|-|-|-|-|\n",
    "|$$E_i(V)$$|12|10|24|12|-|-|-|\n",
    "|$$r_i(\\Omega)$$|0.1|0.5|0.2|0.5|-|-|-|\n",
    "|$$R_i(\\Omega)$$|25|40|16|20|9|4|20|\n",
    "\n",
    "\n",
    "<font color= lightblue > Kemma y Vorst (1990) </font> muestran que las opciones asiáticas con media geométrica continua se pueden valuar con el mismo enfoque de las opciones plain vanilla; solo deben cambiar los parámetros de volatilidad $\\sigma$ por $\\sigma_a$, y el costo de acarreo $b$ por $b_A$. \n",
    "\n",
    "De acuerdo con Kemma y Vorst, las fórmulas para valuar una opción de compra y una opción de venta son:\n",
    "$$c\\approx S_t e^{(b_A-r)(T-t)}\\Phi(d_1)-Ke^{-r(T-t)}\\Phi(d_2),$$\n",
    "$$p\\approx Ke^{-r(T-t)}\\Phi(-d_2)-,S_t e^{(b_A-r)(T-t)}\\Phi(-d_1)$$\n",
    "con $d_1$ y $d_2$ dados por:\n",
    "$$d_1=\\frac{ln(S_t/K)+(b_A+1/2\\sigma_a^2)(T-t)}{\\sigma\\sqrt{T-t}}$$\n",
    "$$d_2=d_1-\\sigma_a\\sqrt{T-t}$$\n",
    "La función $\\Phi(d)$ es la función de distribución acumulada $E\\sim N(0,1)$. La volatilidad ajustada es igual a:\n",
    "$$\\sigma_a=\\frac{\\sigma}{\\sqrt{3}},$$\n",
    "mientras que el costo de acarreo ajustado es:\n",
    "$$b_A=\\frac{1}{2}\\left(v-\\frac{\\sigma^2}{6}\\right).$$"
   ]
  }
 ],
 "metadata": {
  "kernelspec": {
   "display_name": "Python 3",
   "language": "python",
   "name": "python3"
  },
  "language_info": {
   "codemirror_mode": {
    "name": "ipython",
    "version": 3
   },
   "file_extension": ".py",
   "mimetype": "text/x-python",
   "name": "python",
   "nbconvert_exporter": "python",
   "pygments_lexer": "ipython3",
   "version": "3.7.4"
  }
 },
 "nbformat": 4,
 "nbformat_minor": 2
}
